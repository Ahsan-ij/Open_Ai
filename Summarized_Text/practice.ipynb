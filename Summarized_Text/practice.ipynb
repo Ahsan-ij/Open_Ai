{
 "cells": [
  {
   "cell_type": "code",
   "execution_count": null,
   "metadata": {},
   "outputs": [],
   "source": [
    "import openai\n",
    "import json\n",
    "\n",
    "\n",
    "openai.api_key = \"\"\n",
    "\n",
    "def generate_summary(text):\n",
    "\n",
    "    response = openai.ChatCompletion.create(\n",
    "        model=\"gpt-4\",\n",
    "        messages=[\n",
    "            {\"role\": \"system\", \"content\": \"You are an AI expert. Extract the most important information from the provided content in a clear, concise format. Limit the response to 20 words, capturing only essential details relevant to the topic\"},\n",
    "            {\"role\": \"user\", \"content\": text}\n",
    "        ]\n",
    "    )\n",
    "    summary = response['choices'][0]['message']['content'].strip()\n",
    "    return summary\n",
    "\n",
    "def process_json(input_file, output_file):\n",
    "\n",
    "    with open(input_file, 'r') as f:\n",
    "        data = json.load(f)\n",
    "\n",
    "    for item in data:\n",
    "        if \"content\" in item:\n",
    "            item[\"summarized_data\"] = generate_summary(item[\"content\"])\n",
    "\n",
    "    with open(output_file, 'w') as f:\n",
    "        json.dump(data, f)\n",
    "\n",
    "\n",
    "input_file = \"Company_Tax_Return_2024.json\"  \n",
    "output_file = \"data_with_summary.json\"  \n",
    "\n",
    "process_json(input_file, output_file)\n",
    "print(f\"Summarized data saved to {output_file}\")\n"
   ]
  }
 ],
 "metadata": {
  "kernelspec": {
   "display_name": "venv_name",
   "language": "python",
   "name": "python3"
  },
  "language_info": {
   "codemirror_mode": {
    "name": "ipython",
    "version": 3
   },
   "file_extension": ".py",
   "mimetype": "text/x-python",
   "name": "python",
   "nbconvert_exporter": "python",
   "pygments_lexer": "ipython3",
   "version": "3.12.4"
  }
 },
 "nbformat": 4,
 "nbformat_minor": 2
}
