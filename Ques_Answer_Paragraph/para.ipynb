{
 "cells": [
  {
   "cell_type": "code",
   "execution_count": null,
   "metadata": {},
   "outputs": [],
   "source": [
    "import openai\n",
    "\n",
    "\n",
    "openai.api_key = \"\"\n",
    "\n",
    "def read_paragraph_from_files(file_path):\n",
    "    with open(file_path,'r') as file:\n",
    "        paragraph = file.read()\n",
    "    return paragraph\n",
    "\n",
    "file_path = 'paragraph.txt'\n",
    "cricket_text = read_paragraph_from_files(file_path)\n",
    "# print(cricket_text)\n",
    "\n",
    "\n",
    "completion = openai.chat.completions.create(\n",
    "    model=\"gpt-4\", \n",
    "    messages=[\n",
    "        {\"role\": \"system\", \"content\": \"You are Ai expert I give you a paragraph that is related to cricket world cup 2022, your task is to generate valueable questions and answers from paragraph. I want you to generate response in the from of a json file. I want one dictionary in json file this dictionary should contain key value pairs i want question as key and answer as value. \"},\n",
    "        {\"role\": \"user\", \"content\": cricket_text}\n",
    "    ]\n",
    ")\n",
    "response_message = completion.choices[0].message.content\n",
    "print(response_message)"
   ]
  },
  {
   "cell_type": "code",
   "execution_count": 78,
   "metadata": {},
   "outputs": [],
   "source": [
    "with open('qa_response.json', 'w') as json_file:\n",
    "    json.dump(response_message, json_file) "
   ]
  }
 ],
 "metadata": {
  "kernelspec": {
   "display_name": "venv_name",
   "language": "python",
   "name": "python3"
  },
  "language_info": {
   "codemirror_mode": {
    "name": "ipython",
    "version": 3
   },
   "file_extension": ".py",
   "mimetype": "text/x-python",
   "name": "python",
   "nbconvert_exporter": "python",
   "pygments_lexer": "ipython3",
   "version": "3.12.4"
  }
 },
 "nbformat": 4,
 "nbformat_minor": 2
}
